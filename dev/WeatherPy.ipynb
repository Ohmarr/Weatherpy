{
 "cells": [
  {
   "cell_type": "markdown",
   "metadata": {},
   "source": [
    "# WeatherPy\n",
    "----\n",
    "\n",
    "### Analysis\n",
    "* As expected, the weather becomes significantly warmer as one approaches the equator (0 Deg. Latitude). More interestingly, however, is the fact that the southern hemisphere tends to be warmer this time of year than the northern hemisphere. This may be due to the tilt of the earth.\n",
    "* There is no strong relationship between latitude and cloudiness. However, it is interesting to see that a strong band of cities sits at 0, 80, and 100% cloudiness.\n",
    "* There is no strong relationship between latitude and wind speed. However, in northern hemispheres there is a flurry of cities with over 20 mph of wind.\n",
    "\n",
    "---\n",
    "\n",
    "#### Note\n",
    "* Instructions have been included for each segment. You do not have to follow them exactly, but they are included to help you think through the steps."
   ]
  },
  {
   "cell_type": "code",
   "execution_count": 1,
   "metadata": {},
   "outputs": [
    {
     "data": {
      "text/plain": [
       "'\\nTasked with building a representative model of city weather based on geolocation;\\nWill utilize OpenWeatherMap(API) & Citipy to develop model.\\n\\nRequirements:\\n    1) randomly select 500 cities based on lat/long coordinates, \\n    2) perform API calls on OpenWeatherMap to collect weather information per city,\\n    3) print log of a) city being processed, b) city number, & c) city name,\\n    4) Create scatterplots of:\\n            Temperature (F) vs. Latitude\\n            Humidity (%) vs. Latitude\\n            Cloudiness (%) vs. Latitude\\n            Wind Speed (mph) vs. Latitude\\n    4) output data to csv & save scatterplots to png,\\n    5) write up description of 3 obesrvable trends based on the data.\\n'"
      ]
     },
     "execution_count": 1,
     "metadata": {},
     "output_type": "execute_result"
    }
   ],
   "source": [
    "'''\n",
    "Tasked with building a representative model of city weather based on geolocation;\n",
    "Will utilize OpenWeatherMap(API) & Citipy to develop model.\n",
    "\n",
    "Requirements:\n",
    "    1) randomly select 500 cities based on lat/long coordinates, \n",
    "    2) perform API calls on OpenWeatherMap to collect weather information per city,\n",
    "    3) print log of a) city being processed, b) city number, & c) city name,\n",
    "    4) Create scatterplots of:\n",
    "            Temperature (F) vs. Latitude\n",
    "            Humidity (%) vs. Latitude\n",
    "            Cloudiness (%) vs. Latitude\n",
    "            Wind Speed (mph) vs. Latitude\n",
    "    4) output data to csv & save scatterplots to png,\n",
    "    5) write up description of 3 obesrvable trends based on the data.\n",
    "'''"
   ]
  },
  {
   "cell_type": "code",
   "execution_count": 2,
   "metadata": {
    "scrolled": true
   },
   "outputs": [],
   "source": [
    "# Dependencies and Setup\n",
    "import matplotlib.pyplot as plt\n",
    "import pandas as pd\n",
    "import numpy as np\n",
    "import requests as rqst\n",
    "import time\n",
    "\n",
    "# Import API key\n",
    "from config import api_key\n",
    "from citipy import citipy\n",
    "\n",
    "# Output File (CSV)\n",
    "output_data_file = \"output_data/cities.csv\"\n",
    "\n",
    "# Range of latitudes and longitudes\n",
    "lat_range = (-90, 90)\n",
    "lng_range = (-180, 180)"
   ]
  },
  {
   "cell_type": "code",
   "execution_count": 3,
   "metadata": {},
   "outputs": [
    {
     "data": {
      "text/plain": [
       "'&APPID=607a9efca97af1b6b17ec28444122aa3'"
      ]
     },
     "execution_count": 3,
     "metadata": {},
     "output_type": "execute_result"
    }
   ],
   "source": [
    "api_key"
   ]
  },
  {
   "cell_type": "markdown",
   "metadata": {},
   "source": [
    "## Generate Cities List"
   ]
  },
  {
   "cell_type": "code",
   "execution_count": 12,
   "metadata": {},
   "outputs": [
    {
     "data": {
      "text/plain": [
       "10"
      ]
     },
     "execution_count": 12,
     "metadata": {},
     "output_type": "execute_result"
    }
   ],
   "source": [
    "# List for holding lat_lngs and cities\n",
    "lat_lngs = []\n",
    "cities = []\n",
    "\n",
    "# Create a set of random lat and lng combinations\n",
    "lats = np.random.uniform(low=-90.000, high=90.000, size=1500)\n",
    "lngs = np.random.uniform(low=-180.000, high=180.000, size=1500)\n",
    "lat_lngs = zip(lats, lngs)\n",
    "\n",
    "# Identify nearest city for each lat, lng combination\n",
    "for lat_lng in lat_lngs:\n",
    "    city = citipy.nearest_city(lat_lng[0], lat_lng[1]).city_name\n",
    "    \n",
    "    # If the city is unique, then add it to a our cities list\n",
    "    if city not in cities:\n",
    "        cities.append(city)\n",
    "\n",
    "# Print the city count to confirm sufficient count\n",
    "len(cities)\n",
    "cities = cities[0:10]\n",
    "len(cities)"
   ]
  },
  {
   "cell_type": "markdown",
   "metadata": {},
   "source": [
    "### Perform API Calls\n",
    "* Perform a weather check on each city using a series of successive API calls.\n",
    "* Include a print log of each city as it'sbeing processed (with the city number and city name).\n"
   ]
  },
  {
   "cell_type": "code",
   "execution_count": 63,
   "metadata": {},
   "outputs": [
    {
     "data": {
      "text/plain": [
       "{'coord': {'lon': -97.74, 'lat': 30.27},\n",
       " 'weather': [{'id': 804,\n",
       "   'main': 'Clouds',\n",
       "   'description': 'overcast clouds',\n",
       "   'icon': '04n'}],\n",
       " 'base': 'stations',\n",
       " 'main': {'temp': 277.65,\n",
       "  'pressure': 1026,\n",
       "  'humidity': 80,\n",
       "  'temp_min': 276.35,\n",
       "  'temp_max': 279.25},\n",
       " 'visibility': 16093,\n",
       " 'wind': {'speed': 6.2, 'deg': 340},\n",
       " 'clouds': {'all': 90},\n",
       " 'dt': 1544339700,\n",
       " 'sys': {'type': 1,\n",
       "  'id': 3931,\n",
       "  'message': 0.004,\n",
       "  'country': 'US',\n",
       "  'sunrise': 1544361369,\n",
       "  'sunset': 1544398250},\n",
       " 'id': 4671654,\n",
       " 'name': 'Austin',\n",
       " 'cod': 200}"
      ]
     },
     "execution_count": 63,
     "metadata": {},
     "output_type": "execute_result"
    }
   ],
   "source": [
    "#Working API Call\n",
    "#rqst.get('http://api.openweathermap.org/data/2.5/weather?&APPID=607a9efca97af1b6b17ec28444122aa3&q=' + 'austin').json()"
   ]
  },
  {
   "cell_type": "code",
   "execution_count": null,
   "metadata": {},
   "outputs": [],
   "source": [
    "# –––––––––––––––––––––––––––––––– * Query Configuration * \n",
    "units = 'metric'\n",
    "url = \"http://api.openweathermap.org/data/2.5/weather?\"\n",
    "query_url = url + api_key"
   ]
  },
  {
   "cell_type": "code",
   "execution_count": 62,
   "metadata": {},
   "outputs": [
    {
     "name": "stdout",
     "output_type": "stream",
     "text": [
      "Begininning Data Retrieval\n",
      "-----------------------------\n",
      "\n",
      "{'coord': {'lon': -68.31, 'lat': -54.81}, 'weather': [{'id': 803, 'main': 'Clouds', 'description': 'broken clouds', 'icon': '04n'}], 'base': 'stations', 'main': {'temp': 282.15, 'pressure': 990, 'humidity': 66, 'temp_min': 282.15, 'temp_max': 282.15}, 'visibility': 10000, 'wind': {'speed': 2.1, 'deg': 180}, 'clouds': {'all': 75}, 'dt': 1544338800, 'sys': {'type': 1, 'id': 8303, 'message': 0.0082, 'country': 'AR', 'sunrise': 1544341856, 'sunset': 1544403672}, 'id': 3833367, 'name': 'Ushuaia', 'cod': 200}\n",
      "Processing information for city#1: ushuaia\n",
      "{'coord': {'lon': 20.04, 'lat': -34.53}, 'weather': [{'id': 802, 'main': 'Clouds', 'description': 'scattered clouds', 'icon': '03d'}], 'base': 'stations', 'main': {'temp': 293.15, 'pressure': 1021, 'humidity': 60, 'temp_min': 293.15, 'temp_max': 293.15}, 'wind': {'speed': 2.1, 'deg': 240}, 'clouds': {'all': 44}, 'dt': 1544338800, 'sys': {'type': 1, 'id': 1966, 'message': 0.0544, 'country': 'ZA', 'sunrise': 1544325612, 'sunset': 1544377473}, 'id': 1015776, 'name': 'Bredasdorp', 'cod': 200}\n",
      "Processing information for city#2: bredasdorp\n",
      "{'coord': {'lon': 21.1, 'lat': 39.52}, 'weather': [{'id': 803, 'main': 'Clouds', 'description': 'broken clouds', 'icon': '04d'}], 'base': 'stations', 'main': {'temp': 280.15, 'pressure': 1012, 'humidity': 100, 'temp_min': 280.15, 'temp_max': 280.15}, 'visibility': 10000, 'wind': {'speed': 0.25, 'deg': 229.004}, 'clouds': {'all': 75}, 'dt': 1544338200, 'sys': {'type': 1, 'id': 6617, 'message': 0.0457, 'country': 'GR', 'sunrise': 1544334257, 'sunset': 1544368298}, 'id': 254746, 'name': 'Pramanta', 'cod': 200}\n",
      "Processing information for city#3: pramanta\n",
      "{'coord': {'lon': -84.28, 'lat': 15.8}, 'weather': [{'id': 500, 'main': 'Rain', 'description': 'light rain', 'icon': '10n'}], 'base': 'stations', 'main': {'temp': 300.159, 'pressure': 1028.04, 'humidity': 91, 'temp_min': 300.159, 'temp_max': 300.159, 'sea_level': 1028.63, 'grnd_level': 1028.04}, 'wind': {'speed': 4, 'deg': 90.5039}, 'rain': {'3h': 0.365}, 'clouds': {'all': 76}, 'dt': 1544339885, 'sys': {'message': 0.0027, 'country': 'HN', 'sunrise': 1544356392, 'sunset': 1544396766}, 'id': 3614835, 'name': 'Barra Patuca', 'cod': 200}\n",
      "Processing information for city#4: barra patuca\n",
      "{'cod': '404', 'message': 'city not found'}\n",
      "skipping city w/ data error\n",
      "Processing information for city#5: belushya guba\n",
      "{'coord': {'lon': 80.55, 'lat': 73.51}, 'weather': [{'id': 804, 'main': 'Clouds', 'description': 'overcast clouds', 'icon': '04d'}], 'base': 'stations', 'main': {'temp': 265.084, 'pressure': 1019.29, 'humidity': 98, 'temp_min': 265.084, 'temp_max': 265.084, 'sea_level': 1019.84, 'grnd_level': 1019.29}, 'wind': {'speed': 13.27, 'deg': 192.504}, 'clouds': {'all': 92}, 'dt': 1544339886, 'sys': {'message': 0.0032, 'country': 'RU', 'sunrise': 0, 'sunset': 0}, 'id': 1507390, 'name': 'Dikson', 'cod': 200}\n",
      "Processing information for city#6: dikson\n",
      "{'coord': {'lon': -134.97, 'lat': -23.12}, 'weather': [{'id': 500, 'main': 'Rain', 'description': 'light rain', 'icon': '10n'}], 'base': 'stations', 'main': {'temp': 298.109, 'pressure': 1029.83, 'humidity': 100, 'temp_min': 298.109, 'temp_max': 298.109, 'sea_level': 1029.89, 'grnd_level': 1029.83}, 'wind': {'speed': 5.12, 'deg': 34.5039}, 'rain': {'3h': 0.66}, 'clouds': {'all': 56}, 'dt': 1544339886, 'sys': {'message': 0.0038, 'country': 'PF', 'sunrise': 1544364412, 'sunset': 1544413095}, 'id': 4030556, 'name': 'Rikitea', 'cod': 200}\n",
      "Processing information for city#7: rikitea\n",
      "{'cod': '404', 'message': 'city not found'}\n",
      "skipping city w/ data error\n",
      "Processing information for city#8: illoqqortoormiut\n",
      "{'coord': {'lon': -46, 'lat': -20.63}, 'weather': [{'id': 800, 'main': 'Clear', 'description': 'clear sky', 'icon': '02n'}], 'base': 'stations', 'main': {'temp': 287.359, 'pressure': 929.24, 'humidity': 84, 'temp_min': 287.359, 'temp_max': 287.359, 'sea_level': 1031.14, 'grnd_level': 929.24}, 'wind': {'speed': 4.22, 'deg': 84.0039}, 'clouds': {'all': 8}, 'dt': 1544339887, 'sys': {'message': 0.0222, 'country': 'BR', 'sunrise': 1544343358, 'sunset': 1544391430}, 'id': 3453439, 'name': 'Ponta do Sol', 'cod': 200}\n",
      "Processing information for city#9: ponta do sol\n",
      "{'coord': {'lon': 4.24, 'lat': 48.95}, 'weather': [{'id': 803, 'main': 'Clouds', 'description': 'broken clouds', 'icon': '04n'}], 'base': 'stations', 'main': {'temp': 281.16, 'pressure': 1008, 'humidity': 87, 'temp_min': 280.15, 'temp_max': 282.15}, 'visibility': 10000, 'wind': {'speed': 10.8, 'deg': 240}, 'clouds': {'all': 75}, 'dt': 1544337000, 'sys': {'type': 1, 'id': 6535, 'message': 0.0383, 'country': 'FR', 'sunrise': 1544340294, 'sunset': 1544370353}, 'id': 2995603, 'name': 'Saint-Pierre', 'cod': 200}\n",
      "Processing information for city#10: saint-pierre\n",
      "-----------------------------\n",
      "Data Retrieval Complete\n",
      "-----------------------------\n",
      "\n"
     ]
    }
   ],
   "source": [
    "\n",
    "#   city, cloudiness, country, date, humidity, lat, long, max temp, wind speed\n",
    "new_city = []\n",
    "cloudiness = []\n",
    "country = []\n",
    "date = []\n",
    "humidity = []\n",
    "lat = []\n",
    "lon = []\n",
    "temp = []\n",
    "windspeed = []\n",
    "city_number = 1\n",
    "\n",
    "# Loop through the list of cities and perform a request for data on each\n",
    "print('Begininning Data Retrieval\\n-----------------------------\\n')\n",
    "for city in cities:     #make api call to determine weather of city\n",
    "    weather_response = rqst.get(query_url + '&q=' + city).json()\n",
    "    print(weather_response)\n",
    "   \n",
    "    try:\n",
    "        \n",
    "        \n",
    "        cloudiness.append(weather_response['clouds']['all'])\n",
    "        country.append(weather_response['sys']['country'])\n",
    "        date.append(weather_response['dt'])\n",
    "        humidity.append(weather_response['main']['humidity'])\n",
    "        lat.append(weather_response['coord']['lat'])\n",
    "        lon.append(weather_response['coord']['lon'])\n",
    "        temp.append(weather_response['main']['temp_max'])\n",
    "        windspeed.append(weather_response['wind']['speed'])\n",
    "        new_city.append(city)\n",
    "\n",
    "    except:\n",
    "        print('skipping city w/ data error')\n",
    "\n",
    "    \n",
    "    print(f\"Processing information for city#{city_number}: {city}\")\n",
    "    #print(f'{new_city}')\n",
    "    city_number += 1\n",
    "\n",
    "print('-----------------------------\\nData Retrieval Complete\\n-----------------------------\\n')\n"
   ]
  },
  {
   "cell_type": "code",
   "execution_count": 59,
   "metadata": {},
   "outputs": [
    {
     "data": {
      "text/plain": [
       "(8, 8, 8, 8, 8, 8, 8, 8, 8)"
      ]
     },
     "execution_count": 59,
     "metadata": {},
     "output_type": "execute_result"
    }
   ],
   "source": [
    "len(new_city), len(cloudiness), len(country), len(date), len(humidity), len(lat), len(lon), len(temp), len(windspeed)"
   ]
  },
  {
   "cell_type": "code",
   "execution_count": 60,
   "metadata": {
    "scrolled": true
   },
   "outputs": [
    {
     "data": {
      "text/html": [
       "<div>\n",
       "<style scoped>\n",
       "    .dataframe tbody tr th:only-of-type {\n",
       "        vertical-align: middle;\n",
       "    }\n",
       "\n",
       "    .dataframe tbody tr th {\n",
       "        vertical-align: top;\n",
       "    }\n",
       "\n",
       "    .dataframe thead th {\n",
       "        text-align: right;\n",
       "    }\n",
       "</style>\n",
       "<table border=\"1\" class=\"dataframe\">\n",
       "  <thead>\n",
       "    <tr style=\"text-align: right;\">\n",
       "      <th></th>\n",
       "      <th>City</th>\n",
       "      <th>Cloudiness</th>\n",
       "      <th>Country</th>\n",
       "      <th>Date</th>\n",
       "      <th>Humidity</th>\n",
       "      <th>Latitude</th>\n",
       "      <th>Longitude</th>\n",
       "      <th>Max Temp</th>\n",
       "      <th>Wind Speed</th>\n",
       "    </tr>\n",
       "  </thead>\n",
       "  <tbody>\n",
       "    <tr>\n",
       "      <th>0</th>\n",
       "      <td>ushuaia</td>\n",
       "      <td>75</td>\n",
       "      <td>AR</td>\n",
       "      <td>1544338800</td>\n",
       "      <td>66</td>\n",
       "      <td>-54.81</td>\n",
       "      <td>-68.31</td>\n",
       "      <td>282.150</td>\n",
       "      <td>2.10</td>\n",
       "    </tr>\n",
       "    <tr>\n",
       "      <th>1</th>\n",
       "      <td>bredasdorp</td>\n",
       "      <td>44</td>\n",
       "      <td>ZA</td>\n",
       "      <td>1544338800</td>\n",
       "      <td>60</td>\n",
       "      <td>-34.53</td>\n",
       "      <td>20.04</td>\n",
       "      <td>293.150</td>\n",
       "      <td>2.10</td>\n",
       "    </tr>\n",
       "    <tr>\n",
       "      <th>2</th>\n",
       "      <td>pramanta</td>\n",
       "      <td>75</td>\n",
       "      <td>GR</td>\n",
       "      <td>1544338200</td>\n",
       "      <td>100</td>\n",
       "      <td>39.52</td>\n",
       "      <td>21.10</td>\n",
       "      <td>280.150</td>\n",
       "      <td>0.25</td>\n",
       "    </tr>\n",
       "    <tr>\n",
       "      <th>3</th>\n",
       "      <td>barra patuca</td>\n",
       "      <td>76</td>\n",
       "      <td>HN</td>\n",
       "      <td>1544339885</td>\n",
       "      <td>91</td>\n",
       "      <td>15.80</td>\n",
       "      <td>-84.28</td>\n",
       "      <td>300.159</td>\n",
       "      <td>4.00</td>\n",
       "    </tr>\n",
       "    <tr>\n",
       "      <th>4</th>\n",
       "      <td>dikson</td>\n",
       "      <td>92</td>\n",
       "      <td>RU</td>\n",
       "      <td>1544339886</td>\n",
       "      <td>98</td>\n",
       "      <td>73.51</td>\n",
       "      <td>80.55</td>\n",
       "      <td>265.084</td>\n",
       "      <td>13.27</td>\n",
       "    </tr>\n",
       "  </tbody>\n",
       "</table>\n",
       "</div>"
      ],
      "text/plain": [
       "           City  Cloudiness Country        Date  Humidity  Latitude  \\\n",
       "0       ushuaia          75      AR  1544338800        66    -54.81   \n",
       "1    bredasdorp          44      ZA  1544338800        60    -34.53   \n",
       "2      pramanta          75      GR  1544338200       100     39.52   \n",
       "3  barra patuca          76      HN  1544339885        91     15.80   \n",
       "4        dikson          92      RU  1544339886        98     73.51   \n",
       "\n",
       "   Longitude  Max Temp  Wind Speed  \n",
       "0     -68.31   282.150        2.10  \n",
       "1      20.04   293.150        2.10  \n",
       "2      21.10   280.150        0.25  \n",
       "3     -84.28   300.159        4.00  \n",
       "4      80.55   265.084       13.27  "
      ]
     },
     "execution_count": 60,
     "metadata": {},
     "output_type": "execute_result"
    }
   ],
   "source": [
    "# tst = 'http://api.openweathermap.org/data/2.5/weather?q=London,uk&appid=607a9efca97af1b6b17ec28444122aa3'\n",
    "# rqst.get(tst).json()\n",
    "len(new_city)\n",
    "city_data = pd.DataFrame(\n",
    "    {'City': new_city,\n",
    "     'Cloudiness': cloudiness,\n",
    "     'Country': country,\n",
    "     'Date': date,\n",
    "     'Humidity': humidity,\n",
    "     'Latitude': lat,\n",
    "     'Longitude': lon,\n",
    "     'Max Temp': temp,\n",
    "     'Wind Speed': windspeed\n",
    "    })\n",
    "city_data.head()"
   ]
  },
  {
   "cell_type": "markdown",
   "metadata": {},
   "source": [
    "### Convert Raw Data to DataFrame\n",
    "* Export the city data into a .csv.\n",
    "* Display the DataFrame"
   ]
  },
  {
   "cell_type": "code",
   "execution_count": null,
   "metadata": {},
   "outputs": [],
   "source": []
  },
  {
   "cell_type": "code",
   "execution_count": null,
   "metadata": {},
   "outputs": [],
   "source": []
  },
  {
   "cell_type": "markdown",
   "metadata": {},
   "source": [
    "### Plotting the Data\n",
    "* Use proper labeling of the plots using plot titles (including date of analysis) and axes labels.\n",
    "* Save the plotted figures as .pngs."
   ]
  },
  {
   "cell_type": "markdown",
   "metadata": {},
   "source": [
    "#### Latitude vs. Temperature Plot"
   ]
  },
  {
   "cell_type": "code",
   "execution_count": null,
   "metadata": {},
   "outputs": [],
   "source": []
  },
  {
   "cell_type": "markdown",
   "metadata": {},
   "source": [
    "#### Latitude vs. Humidity Plot"
   ]
  },
  {
   "cell_type": "code",
   "execution_count": null,
   "metadata": {},
   "outputs": [],
   "source": []
  },
  {
   "cell_type": "markdown",
   "metadata": {},
   "source": [
    "#### Latitude vs. Cloudiness Plot"
   ]
  },
  {
   "cell_type": "code",
   "execution_count": null,
   "metadata": {},
   "outputs": [],
   "source": []
  },
  {
   "cell_type": "markdown",
   "metadata": {},
   "source": [
    "#### Latitude vs. Wind Speed Plot"
   ]
  },
  {
   "cell_type": "code",
   "execution_count": null,
   "metadata": {},
   "outputs": [],
   "source": []
  },
  {
   "cell_type": "code",
   "execution_count": null,
   "metadata": {},
   "outputs": [],
   "source": []
  }
 ],
 "metadata": {
  "anaconda-cloud": {},
  "kernelspec": {
   "display_name": "Python 3",
   "language": "python",
   "name": "python3"
  },
  "language_info": {
   "codemirror_mode": {
    "name": "ipython",
    "version": 3
   },
   "file_extension": ".py",
   "mimetype": "text/x-python",
   "name": "python",
   "nbconvert_exporter": "python",
   "pygments_lexer": "ipython3",
   "version": "3.6.7"
  }
 },
 "nbformat": 4,
 "nbformat_minor": 2
}
